{
  "nbformat": 4,
  "nbformat_minor": 0,
  "metadata": {
    "colab": {
      "name": "KERNIGHAN-LIN.ipynb",
      "provenance": [],
      "authorship_tag": "ABX9TyOcQb3KPnZJPrTbqwhNJz8h",
      "include_colab_link": true
    },
    "kernelspec": {
      "name": "python3",
      "display_name": "Python 3"
    },
    "language_info": {
      "name": "python"
    }
  },
  "cells": [
    {
      "cell_type": "markdown",
      "metadata": {
        "id": "view-in-github",
        "colab_type": "text"
      },
      "source": [
        "<a href=\"https://colab.research.google.com/github/hmm0403/Kernighan-Lin/blob/master/KERNIGHAN_LIN.ipynb\" target=\"_parent\"><img src=\"https://colab.research.google.com/assets/colab-badge.svg\" alt=\"Open In Colab\"/></a>"
      ]
    },
    {
      "cell_type": "markdown",
      "source": [
        "Setup\n",
        "I will be implementing this algorithm in python and the very first steps will be importing the right libraries"
      ],
      "metadata": {
        "id": "NZMawKseNiwn"
      }
    },
    {
      "cell_type": "code",
      "source": [
        "import graph_tool.all as gt\n",
        "import numpy as np\n",
        "\n",
        "import matplotlib.pyplot as plt\n",
        "plt.style.use('ggplot')"
      ],
      "metadata": {
        "colab": {
          "base_uri": "https://localhost:8080/"
        },
        "id": "1YYCy8inNpHG",
        "outputId": "409b5341-d20d-48c8-bcd8-69c18358f22c"
      },
      "execution_count": 10,
      "outputs": [
        {
          "output_type": "stream",
          "name": "stdout",
          "text": [
            "Looking in indexes: https://pypi.org/simple, https://us-python.pkg.dev/colab-wheels/public/simple/\n",
            "\u001b[31mERROR: Could not find a version that satisfies the requirement python-graph-tool (from versions: none)\u001b[0m\n",
            "\u001b[31mERROR: No matching distribution found for python-graph-tool\u001b[0m\n"
          ]
        }
      ]
    },
    {
      "cell_type": "code",
      "execution_count": 9,
      "metadata": {
        "colab": {
          "base_uri": "https://localhost:8080/",
          "height": 394
        },
        "id": "vJfQaSXUNerq",
        "outputId": "33fefd1a-6101-41e8-9681-4e4429cf3bee"
      },
      "outputs": [
        {
          "output_type": "error",
          "ename": "ModuleNotFoundError",
          "evalue": "ignored",
          "traceback": [
            "\u001b[0;31m---------------------------------------------------------------------------\u001b[0m",
            "\u001b[0;31mModuleNotFoundError\u001b[0m                       Traceback (most recent call last)",
            "\u001b[0;32m<ipython-input-9-d5667952039a>\u001b[0m in \u001b[0;36m<module>\u001b[0;34m()\u001b[0m\n\u001b[0;32m----> 1\u001b[0;31m \u001b[0;32mimport\u001b[0m \u001b[0mgraphtools\u001b[0m\u001b[0;34m.\u001b[0m\u001b[0mall\u001b[0m \u001b[0;32mas\u001b[0m \u001b[0mgt\u001b[0m\u001b[0;34m\u001b[0m\u001b[0;34m\u001b[0m\u001b[0m\n\u001b[0m\u001b[1;32m      2\u001b[0m \u001b[0;32mimport\u001b[0m \u001b[0mnumpy\u001b[0m \u001b[0;32mas\u001b[0m \u001b[0mnp\u001b[0m\u001b[0;34m\u001b[0m\u001b[0;34m\u001b[0m\u001b[0m\n\u001b[1;32m      3\u001b[0m \u001b[0;34m\u001b[0m\u001b[0m\n\u001b[1;32m      4\u001b[0m \u001b[0;32mimport\u001b[0m \u001b[0mmatplotlib\u001b[0m\u001b[0;34m.\u001b[0m\u001b[0mpyplot\u001b[0m \u001b[0;32mas\u001b[0m \u001b[0mplt\u001b[0m\u001b[0;34m\u001b[0m\u001b[0;34m\u001b[0m\u001b[0m\n\u001b[1;32m      5\u001b[0m \u001b[0mplt\u001b[0m\u001b[0;34m.\u001b[0m\u001b[0mstyle\u001b[0m\u001b[0;34m.\u001b[0m\u001b[0muse\u001b[0m\u001b[0;34m(\u001b[0m\u001b[0;34m'ggplot'\u001b[0m\u001b[0;34m)\u001b[0m\u001b[0;34m\u001b[0m\u001b[0;34m\u001b[0m\u001b[0m\n",
            "\u001b[0;31mModuleNotFoundError\u001b[0m: No module named 'graphtools.all'",
            "",
            "\u001b[0;31m---------------------------------------------------------------------------\u001b[0;32m\nNOTE: If your import is failing due to a missing package, you can\nmanually install dependencies using either !pip or !apt.\n\nTo view examples of installing some common dependencies, click the\n\"Open Examples\" button below.\n\u001b[0;31m---------------------------------------------------------------------------\u001b[0m\n"
          ],
          "errorDetails": {
            "actions": [
              {
                "action": "open_url",
                "actionText": "Open Examples",
                "url": "/notebooks/snippets/importing_libraries.ipynb"
              }
            ]
          }
        }
      ],
      "source": [
        "class Communities:\n",
        "    \"\"\"\n",
        "    Class for dividing networks into communities\n",
        "    \"\"\"\n",
        "    def __init__(self, graph, k, model='sbm'):\n",
        "        \"\"\"\n",
        "        Initialize network with k communities according to a particular random graph model\n",
        "\n",
        "        Args:\n",
        "            graph (graph_tool.Graph): graph_tool graph object. Network to be partitioned into communities\n",
        "            k (int): Number of communities to partition network into \n",
        "            model (str, optional): Random graph model according to which the network will be partitioned. Defaults to 'sbm'.\n",
        "        \"\"\"        \n",
        "        self.graph = graph  # takes a graph_tool graph object\n",
        "        self.num_groups = k  # number of groups to assign nodes to\n",
        "        if model in ['sbm', 'dcsbm']:\n",
        "            self.model = model\n",
        "        else:\n",
        "            raise ValueError('Invalid model. Choose from \\'sbm\\' or \\'dcsbm\\'')\n",
        "        self.init_random_partition()  # randomly partition the network in to k groups\n",
        "        self.curr_groups = self.partition()  # current group assignments\n"
      ]
    },
    {
      "cell_type": "code",
      "source": [
        "    def init_random_partition(self):\n",
        "        \"\"\"\n",
        "        Randomly assigns groups to each node\n",
        "        \"\"\"               \n",
        "        partitions = self.graph.new_vertex_property('int')\n",
        "        self.graph.vertex_properties['group'] = partitions\n",
        "\n",
        "        for u in self.graph.iter_vertices():\n",
        "            partitions[u] = np.random.randint(self.num_groups)"
      ],
      "metadata": {
        "id": "wntqYsd-Ngw3"
      },
      "execution_count": null,
      "outputs": []
    },
    {
      "cell_type": "code",
      "source": [
        "    def partition(self):\n",
        "        \"\"\"\n",
        "        Generates group assignment matrix\n",
        "\n",
        "        Returns:\n",
        "            groups (numpy.ndarray): group assignment matrix of shape number of nodes by number of groups\n",
        "        \"\"\"        \n",
        "        groups = np.zeros(shape=(self.graph.num_vertices(),\n",
        "                          self.num_groups), dtype=np.int32)\n",
        "\n",
        "        labels = self.graph.vp.group.a\n",
        "        for j in range(groups.shape[1]):\n",
        "            for i in range(groups.shape[0]):\n",
        "                groups[i, j] = 1 if j == labels[i] else 0\n",
        "\n",
        "        return groups"
      ],
      "metadata": {
        "id": "us11e5jwPBYe"
      },
      "execution_count": null,
      "outputs": []
    },
    {
      "cell_type": "code",
      "source": [
        "    def sbm_likelihood(self):\n",
        "        \"\"\"\n",
        "        Calculates the likelihood of the community structure according to the Stochastic Block Model\n",
        "\n",
        "        Returns:\n",
        "            float: Likelihood according to Stochastic Block Model\n",
        "        \"\"\"        \n",
        "        n_nodes = self.graph.num_vertices()\n",
        "\n",
        "        nodes_in_grp = self.curr_groups.sum(axis=0)\n",
        "        two_m = 2*self.graph.num_edges()\n",
        "\n",
        "        edge_adj = self.curr_groups.T@(gt.adjacency(\n",
        "            self.graph).todense())@self.curr_groups\n",
        "\n",
        "        L = 0\n",
        "        for r in range(edge_adj.shape[0]):\n",
        "            for s in range(edge_adj.shape[1]):\n",
        "                if(edge_adj[r, s] == 0):\n",
        "                    L += 0\n",
        "                else:\n",
        "                    log_exp = np.log(edge_adj[r, s])-np.log(nodes_in_grp[r]*nodes_in_grp[s])\n",
        "                    L += (edge_adj[r, s]*log_exp)\n",
        "\n",
        "        return L"
      ],
      "metadata": {
        "id": "cTy9omSuPEFd"
      },
      "execution_count": null,
      "outputs": []
    },
    {
      "cell_type": "code",
      "source": [
        "    def get_communities(self):\n",
        "        \"\"\"\n",
        "        Performs Kernighan-Lin (https://ieeexplore-ieee-org.proxy.lib.umich.edu/document/6771089) like moves to find optimal \n",
        "        community structure of network based on discussion by Karrer and Newman (https://arxiv.org/abs/1008.3926)\n",
        "\n",
        "        Returns:\n",
        "            list: best probability of each iteration of the algorithm\n",
        "        \"\"\"\n",
        "        \n",
        "        two_m = 2*self.graph.num_edges()\n",
        "        n_nodes = self.graph.num_vertices()\n",
        "        nodes = [i for i in range(n_nodes)]\n",
        "        max_num_trials = 100\n",
        "\n",
        "        if (self.model == 'sbm'):\n",
        "            log_prob = self.sbm_likelihood\n",
        "        else:\n",
        "            log_prob = self.dcsbm_likelihood\n",
        "            \n",
        "        init_likelihood = log_prob()\n",
        "        best_probs = [init_likelihood]\n",
        "\n",
        "        for t in range(max_num_trials):\n",
        "            unvisited = nodes.copy()\n",
        "            t_best_config = np.zeros(shape=(n_nodes, n_nodes))\n",
        "            max_probs = np.zeros(n_nodes)\n",
        "            state = 0\n",
        "            while(unvisited):\n",
        "                probs = []\n",
        "                for i in unvisited:\n",
        "                    group_r = self.graph.vp.group[i]\n",
        "                    curr_part = np.copy(self.curr_groups)\n",
        "                    for group_s in range(self.num_groups):\n",
        "                        if group_s != group_r:\n",
        "                            self.graph.vp.group[i] = group_s\n",
        "                            self.curr_groups = self.partition()\n",
        "                            probs.append((log_prob(), i, group_s))\n",
        "\n",
        "                            self.graph.vp.group[i] = group_r\n",
        "                            self.curr_groups = np.copy(curr_part)\n",
        "                    \n",
        "                max_prob = max(probs)\n",
        "                max_probs[state] = max_prob[0]\n",
        "                self.graph.vp.group[max_prob[1]] = max_prob[2]\n",
        "                t_best_config[state] = self.graph.vp.group.a.copy()\n",
        "                unvisited.remove(max_prob[1])\n",
        "                state += 1\n",
        "            if ((max_probs.max() - max(best_probs)) <= 0):\n",
        "                return best_probs\n",
        "                \n",
        "            self.graph.vp.group.a = t_best_config[max_probs.argmax()].copy()\n",
        "            best_probs.append(max_probs.max())\n",
        "\n",
        "        return best_probs"
      ],
      "metadata": {
        "id": "dRc2GKfkPGMV"
      },
      "execution_count": null,
      "outputs": []
    },
    {
      "cell_type": "code",
      "source": [
        "class Communities:\n",
        "    \"\"\"\n",
        "    Class for dividing networks into communities\n",
        "    \"\"\"\n",
        "    def __init__(self, graph, k, model='sbm'):\n",
        "        \"\"\"\n",
        "        Initialize network with k communities according to a particular random graph model\n",
        "\n",
        "        Args:\n",
        "            graph (graph_tool.Graph): graph_tool graph object. Network to be partitioned into communities\n",
        "            k (int): Number of communities to partition network into \n",
        "            model (str, optional): Random graph model according to which the network will be partitioned. Defaults to 'sbm'.\n",
        "        \"\"\"        \n",
        "        self.graph = graph  # takes a graph_tool graph object\n",
        "        self.num_groups = k  # number of groups to assign nodes to\n",
        "        if model in ['sbm', 'dcsbm']:\n",
        "            self.model = model\n",
        "        else:\n",
        "            raise ValueError('Invalid model. Choose from \\'sbm\\' or \\'dcsbm\\'')\n",
        "        self.init_random_partition()  # randomly partition the network in to k groups\n",
        "        self.curr_groups = self.partition()  # current group assignments\n",
        "\n",
        "    def init_random_partition(self):\n",
        "        \"\"\"\n",
        "        Randomly assigns groups to each node\n",
        "        \"\"\"               \n",
        "        partitions = self.graph.new_vertex_property('int')\n",
        "        self.graph.vertex_properties['group'] = partitions\n",
        "\n",
        "        for u in self.graph.iter_vertices():\n",
        "            partitions[u] = np.random.randint(self.num_groups)\n",
        "\n",
        "    def partition(self):\n",
        "        \"\"\"\n",
        "        Generates group assignment matrix\n",
        "\n",
        "        Returns:\n",
        "            groups (numpy.ndarray): group assignment matrix of shape number of nodes by number of groups\n",
        "        \"\"\"        \n",
        "        groups = np.zeros(shape=(self.graph.num_vertices(),\n",
        "                          self.num_groups), dtype=np.int32)\n",
        "\n",
        "        labels = self.graph.vp.group.a\n",
        "        for j in range(groups.shape[1]):\n",
        "            for i in range(groups.shape[0]):\n",
        "                groups[i, j] = 1 if j == labels[i] else 0\n",
        "\n",
        "        return groups\n",
        "\n",
        "    def sbm_likelihood(self):\n",
        "        \"\"\"\n",
        "        Calculates the likelihood of the community structure according to the Stochastic Block Model\n",
        "\n",
        "        Returns:\n",
        "            float: Likelihood according to Stochastic Block Model\n",
        "        \"\"\"        \n",
        "        n_nodes = self.graph.num_vertices()\n",
        "\n",
        "        nodes_in_grp = self.curr_groups.sum(axis=0)\n",
        "        two_m = 2*self.graph.num_edges()\n",
        "\n",
        "        edge_adj = self.curr_groups.T@(gt.adjacency(\n",
        "            self.graph).todense())@self.curr_groups\n",
        "\n",
        "        L = 0\n",
        "        for r in range(edge_adj.shape[0]):\n",
        "            for s in range(edge_adj.shape[1]):\n",
        "                if(edge_adj[r, s] == 0):\n",
        "                    L += 0\n",
        "                else:\n",
        "                    log_exp = np.log(edge_adj[r, s])-np.log(nodes_in_grp[r]*nodes_in_grp[s])\n",
        "                    L += (edge_adj[r, s]*log_exp)\n",
        "\n",
        "        return L\n",
        "\n",
        "\n",
        "    def get_communities(self):\n",
        "        \"\"\"\n",
        "        Performs Kernighan-Lin (https://ieeexplore-ieee-org.proxy.lib.umich.edu/document/6771089) like moves to find optimal \n",
        "        community structure of network based on discussion by Karrer and Newman (https://arxiv.org/abs/1008.3926)\n",
        "\n",
        "        Returns:\n",
        "            list: best probability of each iteration of the algorithm\n",
        "        \"\"\"\n",
        "        \n",
        "        two_m = 2*self.graph.num_edges()\n",
        "        n_nodes = self.graph.num_vertices()\n",
        "        nodes = [i for i in range(n_nodes)]\n",
        "        max_num_trials = 100\n",
        "\n",
        "        if (self.model == 'sbm'):\n",
        "            log_prob = self.sbm_likelihood\n",
        "        else:\n",
        "            log_prob = self.dcsbm_likelihood\n",
        "            \n",
        "        init_likelihood = log_prob()\n",
        "        best_probs = [init_likelihood]\n",
        "\n",
        "        for t in range(max_num_trials):\n",
        "            unvisited = nodes.copy()\n",
        "            t_best_config = np.zeros(shape=(n_nodes, n_nodes))\n",
        "            max_probs = np.zeros(n_nodes)\n",
        "            state = 0\n",
        "            while(unvisited):\n",
        "                probs = []\n",
        "                for i in unvisited:\n",
        "                    group_r = self.graph.vp.group[i]\n",
        "                    curr_part = np.copy(self.curr_groups)\n",
        "                    for group_s in range(self.num_groups):\n",
        "                        if group_s != group_r:\n",
        "                            self.graph.vp.group[i] = group_s\n",
        "                            self.curr_groups = self.partition()\n",
        "                            probs.append((log_prob(), i, group_s))\n",
        "\n",
        "                            self.graph.vp.group[i] = group_r\n",
        "                            self.curr_groups = np.copy(curr_part)\n",
        "                    \n",
        "                max_prob = max(probs)\n",
        "                max_probs[state] = max_prob[0]\n",
        "                self.graph.vp.group[max_prob[1]] = max_prob[2]\n",
        "                t_best_config[state] = self.graph.vp.group.a.copy()\n",
        "                unvisited.remove(max_prob[1])\n",
        "                state += 1\n",
        "            if ((max_probs.max() - max(best_probs)) <= 0):\n",
        "                return best_probs\n",
        "                \n",
        "            self.graph.vp.group.a = t_best_config[max_probs.argmax()].copy()\n",
        "            best_probs.append(max_probs.max())\n",
        "\n",
        "        return best_probs"
      ],
      "metadata": {
        "id": "W6Urqog0PIvj"
      },
      "execution_count": null,
      "outputs": []
    },
    {
      "cell_type": "code",
      "source": [
        "test_graph = gt.load_graph('test_block_graph.graphml')"
      ],
      "metadata": {
        "id": "YcKgU9EbPK5G"
      },
      "execution_count": null,
      "outputs": []
    },
    {
      "cell_type": "code",
      "source": [
        "test_sbm = Communities(test_graph, 2, 'sbm')"
      ],
      "metadata": {
        "id": "1vKnMw_7PM5w"
      },
      "execution_count": null,
      "outputs": []
    },
    {
      "cell_type": "code",
      "source": [
        "sbm_probs = test_sbm.get_communities()"
      ],
      "metadata": {
        "id": "Kqvz_tw2POjm"
      },
      "execution_count": null,
      "outputs": []
    },
    {
      "cell_type": "code",
      "source": [
        "k_club_graph = gt.collection.data['karate']\n",
        "gt.graph_draw(k_club_graph, vertex_text=k_club_graph.vertex_index)"
      ],
      "metadata": {
        "id": "f0UR1r-HPQEN"
      },
      "execution_count": null,
      "outputs": []
    },
    {
      "cell_type": "code",
      "source": [
        "k_club = Communities(k_club_graph, 2, model='sbm')\n",
        "k_club_probs = k_club.get_communities()"
      ],
      "metadata": {
        "id": "WGiwzCAbPSfb"
      },
      "execution_count": null,
      "outputs": []
    },
    {
      "cell_type": "code",
      "source": [
        "k_club_dc = Communities(k_club_graph, 2, model='dcsbm')\n",
        "k_club_dc_probs = k_club_dc.get_communities()"
      ],
      "metadata": {
        "id": "VZJiTCyOPUDV"
      },
      "execution_count": null,
      "outputs": []
    }
  ]
}